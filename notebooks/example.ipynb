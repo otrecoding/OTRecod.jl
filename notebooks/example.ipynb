{
 "cells": [
  {
   "cell_type": "code",
   "execution_count": 16,
   "id": "f95a8ae5",
   "metadata": {},
   "outputs": [],
   "source": [
    "using DelimitedFiles\n",
    "using OTRecod\n"
   ]
  },
  {
   "cell_type": "code",
   "execution_count": 17,
   "id": "5d1331a6",
   "metadata": {},
   "outputs": [
    {
     "data": {
      "text/plain": [
       "([1.0 2.0 … 1.0 1.0; 2.0 2.0 … 3.0 1.0; 1.0 3.0 … 2.0 4.0], [1, 1, 1, 1, 3, 2, 3, 1, 2, 3  …  1, 3, 1, 3, 1, 1, 1, 1, 3, 1], [1, 1, 1, 1, 4, 2, 4, 1, 2, 3  …  1, 3, 1, 3, 1, 1, 1, 1, 4, 1], [2.0 1.0 … 2.0 2.0; 2.0 2.0 … 2.0 2.0; 2.0 3.0 … 2.0 1.0], [2, 1, 2, 3, 3, 3, 2, 1, 2, 2  …  2, 2, 3, 2, 3, 3, 2, 1, 2, 2], [2, 1, 2, 3, 3, 3, 2, 1, 2, 3  …  2, 2, 3, 2, 3, 3, 2, 1, 1, 2])"
      ]
     },
     "execution_count": 17,
     "metadata": {},
     "output_type": "execute_result"
    }
   ],
   "source": [
    "XA, YA, ZA, XB, YB, ZB = simulate()"
   ]
  },
  {
   "cell_type": "code",
   "execution_count": 18,
   "id": "e9ca45bc",
   "metadata": {},
   "outputs": [
    {
     "data": {
      "text/plain": [
       "\"../test/data/tab1.txt\""
      ]
     },
     "execution_count": 18,
     "metadata": {},
     "output_type": "execute_result"
    }
   ],
   "source": [
    "datafile = joinpath(\"..\", \"test\", \"data\", \"tab1.txt\")"
   ]
  },
  {
   "cell_type": "code",
   "execution_count": 21,
   "id": "851e8f31",
   "metadata": {},
   "outputs": [
    {
     "data": {
      "text/plain": [
       "3-element Vector{Int64}:\n",
       " 4\n",
       " 5\n",
       " 6"
      ]
     },
     "execution_count": 21,
     "metadata": {},
     "output_type": "execute_result"
    }
   ],
   "source": [
    "data = readdlm(datafile, ' ')\n",
    "nbcvar = size(data, 2) - 3\n",
    "observed = Array(4:(4+nbcvar-1))\n"
   ]
  },
  {
   "cell_type": "code",
   "execution_count": 29,
   "id": "fa9b1986",
   "metadata": {},
   "outputs": [
    {
     "data": {
      "text/plain": [
       "4-element Vector{Int64}:\n",
       " 1\n",
       " 2\n",
       " 3\n",
       " 4"
      ]
     },
     "execution_count": 29,
     "metadata": {},
     "output_type": "execute_result"
    }
   ],
   "source": [
    "nA = size(XA, 1)\n",
    "nB = size(XB, 2)\n",
    "\n",
    "Xobserv = vcat(XA, XB)\n",
    "Yobserv = vcat(YA, YB)\n",
    "Zobserv = vcat(ZA, ZB)\n",
    "indA = 1:nA\n",
    "indB = nA+1:nA+nB\n",
    "\n",
    "# Modify Y and Z so that they go from 1 to the number of modalities\n",
    "Y = sort(unique(Yobserv[Yobserv.!=-1]))\n",
    "Z = sort(unique(Zobserv[Zobserv.!=-1]))\n",
    "for i = eachindex(Y)\n",
    "    Yobserv[Yobserv.==Y[i]] .= i\n",
    "end\n",
    "Y = [i for i = 1:length(Y)]\n",
    "for i = eachindex(Z)\n",
    "    Zobserv[Zobserv.==Z[i]] .= i\n",
    "end\n",
    "Z = [i for i = eachindex(Z)]\n"
   ]
  },
  {
   "cell_type": "code",
   "execution_count": 28,
   "id": "9d7a1e71",
   "metadata": {},
   "outputs": [
    {
     "data": {
      "text/plain": [
       "6×1000 Matrix{Float64}:\n",
       " 1.0  2.0  1.0  1.0  1.0  2.0  2.0  1.0  …  1.0  1.0  1.0  2.0  1.0  1.0  1.0\n",
       " 2.0  2.0  1.0  1.0  2.0  3.0  3.0  2.0     3.0  2.0  2.0  2.0  1.0  3.0  1.0\n",
       " 1.0  3.0  2.0  1.0  4.0  2.0  4.0  1.0     1.0  1.0  1.0  3.0  3.0  2.0  4.0\n",
       " 2.0  1.0  2.0  2.0  2.0  2.0  2.0  2.0     1.0  2.0  2.0  2.0  2.0  2.0  2.0\n",
       " 2.0  2.0  2.0  3.0  2.0  3.0  2.0  1.0     1.0  3.0  2.0  2.0  1.0  2.0  2.0\n",
       " 2.0  3.0  2.0  4.0  1.0  3.0  2.0  1.0  …  3.0  2.0  3.0  2.0  3.0  2.0  1.0"
      ]
     },
     "execution_count": 28,
     "metadata": {},
     "output_type": "execute_result"
    }
   ],
   "source": [
    "Xobserv"
   ]
  },
  {
   "cell_type": "code",
   "execution_count": 25,
   "id": "53b9bb58",
   "metadata": {},
   "outputs": [
    {
     "data": {
      "text/plain": [
       "4-element Vector{Int64}:\n",
       " 1\n",
       " 2\n",
       " 3\n",
       " 4"
      ]
     },
     "execution_count": 25,
     "metadata": {},
     "output_type": "execute_result"
    }
   ],
   "source": [
    "Z"
   ]
  },
  {
   "cell_type": "code",
   "execution_count": null,
   "id": "a22df3a9",
   "metadata": {},
   "outputs": [],
   "source": []
  }
 ],
 "metadata": {
  "kernelspec": {
   "display_name": "Julia 1.9.0",
   "language": "julia",
   "name": "julia-1.9"
  },
  "language_info": {
   "file_extension": ".jl",
   "mimetype": "application/julia",
   "name": "julia",
   "version": "1.9.0"
  }
 },
 "nbformat": 4,
 "nbformat_minor": 5
}
